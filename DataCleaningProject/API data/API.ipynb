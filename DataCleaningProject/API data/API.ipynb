{
 "cells": [
  {
   "cell_type": "code",
   "execution_count": 6,
   "metadata": {},
   "outputs": [
    {
     "name": "stdout",
     "output_type": "stream",
     "text": [
      "{'Будь собой. Будь разной. ВКонт': [747, 1260, 143, 1741355114],\n",
      " 'В чатах ВКонтакте теперь можно': [1040, 1911, 968, 1738054822],\n",
      " 'Весенние иконки уже в приложен': [861, 876, 222, 1741771153],\n",
      " 'Заработок авторов контента ВКо': [1990, 1620, 462, 1738221930],\n",
      " 'Поддерживать авторов через VK ': [1319, 854, 299, 1739873186],\n",
      " 'Рабочие чаты мешаются с мемами': [680, 882, 285, 1741248052],\n",
      " 'Сегодня — Всемирный день безоп': [1147, 981, 305, 1739277000],\n",
      " 'Стоите в очереди, ждёте кого-т': [807, 405, 94, 1741959000],\n",
      " 'Хорошая новость для всех, но о': [287, 521, 182, 1740988815],\n",
      " 'Юре Борисову «Оскара» не вручи': [511, 1081, 320, 1741082052]}\n"
     ]
    }
   ],
   "source": [
    "import requests\n",
    "from bs4 import BeautifulSoup\n",
    "from pprint import pprint\n",
    "token='c3bf51b2c3bf51b2c3bf51b21bc0924ccbcc3bfc3bf51b2a46530fc3dc291493825356e'\n",
    "url = 'https://api.vk.com/method/wall.get'\n",
    "ids = \",\".join(map(str, range(1, 501)))\n",
    "params = {'domain': 'vk', 'filter': 'owner', 'count': 1000, 'offset': 0, 'access_token': token, 'v': 5.95}\n",
    "response = requests.get(url, params = params)\n",
    "data = response.json()\n",
    "stats = {} \n",
    "count_post = 0 # Счётчик «непустых» сообщений\n",
    "for record in response.json()['response']['items'][:]:\n",
    "    title = record['text'][:30] \n",
    "    if title: \n",
    "        stats[title] = [record['comments']['count'], record['likes']['count'], record['reposts']['count'], record['date']] \n",
    "        count_post += 1 \n",
    "    if count_post < 10: \n",
    "        continue \n",
    "    else: \n",
    "        break \n",
    "pprint(stats)"
   ]
  }
 ],
 "metadata": {
  "kernelspec": {
   "display_name": "Python 3",
   "language": "python",
   "name": "python3"
  },
  "language_info": {
   "codemirror_mode": {
    "name": "ipython",
    "version": 3
   },
   "file_extension": ".py",
   "mimetype": "text/x-python",
   "name": "python",
   "nbconvert_exporter": "python",
   "pygments_lexer": "ipython3",
   "version": "3.9.11"
  }
 },
 "nbformat": 4,
 "nbformat_minor": 2
}
