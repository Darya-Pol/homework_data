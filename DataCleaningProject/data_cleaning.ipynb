{
 "cells": [
  {
   "cell_type": "code",
   "execution_count": 27,
   "metadata": {},
   "outputs": [
    {
     "data": {
      "text/plain": [
       "4056    2020-01-22\n",
       "4055    2020-01-22\n",
       "4054    2020-01-22\n",
       "4061    2020-01-22\n",
       "4060    2020-01-22\n",
       "           ...    \n",
       "45506   2021-05-29\n",
       "45490   2021-05-29\n",
       "45433   2021-05-29\n",
       "45523   2021-05-29\n",
       "45437   2021-05-29\n",
       "Name: date, Length: 86785, dtype: datetime64[ns]"
      ]
     },
     "metadata": {},
     "output_type": "display_data"
    }
   ],
   "source": [
    "import pandas as pd\n",
    "covid_data = pd.read_csv('C:\\IDA\\DataCleaningProject\\data/covid_data.csv', sep = ',')\n",
    "vaccinations_data  = pd.read_csv('C:\\IDA\\DataCleaningProject\\data/country_vaccinations.csv', sep = ',')\n",
    "covid_data = covid_data.groupby(['date', 'country'],as_index=False)[['confirmed', 'deaths', 'recovered']].sum()\n",
    "covid_data['date'] = pd.to_datetime(covid_data['date'])\n",
    "covid_data['active'] = covid_data['confirmed'] - covid_data['deaths'] - covid_data['recovered']\n",
    "covid_data = covid_data.sort_values(by=['country', 'date'])\n",
    "covid_data['daily_confirmed'] = covid_data.groupby('country')['confirmed'].diff()\n",
    "covid_data['daily_deaths'] = covid_data.groupby('country')['deaths'].diff()\n",
    "covid_data['daily_recovered'] = covid_data.groupby('country')['recovered'].diff()\n",
    "vaccinations_data['date'] = pd.to_datetime(vaccinations_data['date'])\n",
    "covid_df = covid_data.merge(vaccinations_data, how = 'left', on=['date', 'country'] )\n",
    "display(covid_data['date'].sort_values())"
   ]
  }
 ],
 "metadata": {
  "kernelspec": {
   "display_name": "Python 3",
   "language": "python",
   "name": "python3"
  },
  "language_info": {
   "codemirror_mode": {
    "name": "ipython",
    "version": 3
   },
   "file_extension": ".py",
   "mimetype": "text/x-python",
   "name": "python",
   "nbconvert_exporter": "python",
   "pygments_lexer": "ipython3",
   "version": "3.9.11"
  }
 },
 "nbformat": 4,
 "nbformat_minor": 2
}
