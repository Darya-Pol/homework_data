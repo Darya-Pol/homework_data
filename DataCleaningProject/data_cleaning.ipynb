{
 "cells": [
  {
   "cell_type": "code",
   "execution_count": 38,
   "metadata": {},
   "outputs": [
    {
     "data": {
      "text/plain": [
       "29"
      ]
     },
     "metadata": {},
     "output_type": "display_data"
    }
   ],
   "source": [
    "import pandas as pd\n",
    "import numpy as np\n",
    "import matplotlib.pyplot as plt\n",
    "import seaborn as sns\n",
    "import plotly.express as px\n",
    "diabetes_data = pd.read_csv('C:\\IDA\\DataCleaningProject\\data/diabetes_data.csv', sep = ',')\n",
    "diabetes_clean = diabetes_data.copy()\n",
    "diabetes_clean = diabetes_clean.drop_duplicates()\n",
    "low_information_cols = []\n",
    "for col in diabetes_clean.columns:\n",
    "    top_freq=diabetes_clean[col].value_counts(normalize=True).max()\n",
    "    nununique_ratio=diabetes_clean[col].nunique()/diabetes_clean[col].count()\n",
    "    if top_freq > 0.95:\n",
    "        low_information_cols.append(col)\n",
    "    if nununique_ratio > 0.95:\n",
    "        low_information_cols.append(col)\n",
    "diabetes_clean=diabetes_clean.drop(axis=1, columns=low_information_cols)\n",
    "null_cols=['Glucose', 'BloodPressure', 'SkinThickness', 'Insulin', 'BMI']\n",
    "diabetes_clean['Glucose']=diabetes_clean['Glucose'].replace({'0':np.nan, 0:np.nan})\n",
    "diabetes_clean['BloodPressure']=diabetes_clean['BloodPressure'].replace({'0':np.nan, 0:np.nan})\n",
    "diabetes_clean['SkinThickness']=diabetes_clean['SkinThickness'].replace({'0':np.nan, 0:np.nan})\n",
    "diabetes_clean['Insulin']=diabetes_clean['Insulin'].replace({'0':np.nan, 0:np.nan})\n",
    "diabetes_clean['BMI']=diabetes_clean['BMI'].replace({'0':np.nan, 0:np.nan})\n",
    "diabetes_clean=diabetes_clean.dropna(axis=1, thresh=diabetes_clean.shape[0]*0.7)\n",
    "diabetes_clean=diabetes_clean.dropna(thresh=diabetes_clean.shape[1]-2)\n",
    "values={\n",
    "     'Pregnancies':diabetes_clean['Pregnancies'].median(), \n",
    "     'Glucose':diabetes_clean['Glucose'].median(),\n",
    "     'BloodPressure':diabetes_clean['BloodPressure'].median(),\n",
    "     'SkinThickness':diabetes_clean['SkinThickness'].median(),\n",
    "     'BMI':diabetes_clean['BMI'].median(),\n",
    "     'DiabetesPedigreeFunction':diabetes_clean['DiabetesPedigreeFunction'].median(),\n",
    "     'Age':diabetes_clean['Age'].median(),\n",
    "     'Outcome':diabetes_clean['Outcome'].median()\n",
    "     }\n",
    "diabetes_clean=diabetes_clean.fillna(values)\n",
    "def outliers_iqr(data,feature):\n",
    "    x=data[feature]\n",
    "    quantile_1, quantile_3=x.quantile(0.25), x.quantile(0.75)\n",
    "    iqr=quantile_3-quantile_1\n",
    "    lower_bound=quantile_1-(iqr*1.5)\n",
    "    upper_bound=quantile_3+(iqr*1.5)\n",
    "    outliers=data[(x<lower_bound)|(x>upper_bound)]\n",
    "    cleaned=data[(x>lower_bound)&(x<upper_bound)]\n",
    "    return outliers, cleaned\n",
    "outliers_iqr, cleaned_iqr = outliers_iqr(diabetes_clean, 'DiabetesPedigreeFunction')\n",
    "def outliers_z_score(data,feature,log_scale=False):\n",
    "    if log_scale:\n",
    "        x=np.log(data[feature])\n",
    "    else:\n",
    "        x=data[feature]\n",
    "    mu=x.mean()\n",
    "    sigma=x.std()\n",
    "    lower_bound=mu-3*sigma\n",
    "    upper_bound=mu+3*sigma\n",
    "    outliers=data[(x<lower_bound)|(x>upper_bound)]\n",
    "    cleaned=data[(x>lower_bound)&(x<upper_bound)]\n",
    "    return outliers, cleaned\n",
    "outliers_z, cleaned_z = outliers_z_score(diabetes_clean, 'DiabetesPedigreeFunction', log_scale=True)\n",
    "display (outliers_iqr.shape[0] - outliers_z.shape[0])"
   ]
  }
 ],
 "metadata": {
  "kernelspec": {
   "display_name": "Python 3",
   "language": "python",
   "name": "python3"
  },
  "language_info": {
   "codemirror_mode": {
    "name": "ipython",
    "version": 3
   },
   "file_extension": ".py",
   "mimetype": "text/x-python",
   "name": "python",
   "nbconvert_exporter": "python",
   "pygments_lexer": "ipython3",
   "version": "3.9.11"
  }
 },
 "nbformat": 4,
 "nbformat_minor": 2
}
