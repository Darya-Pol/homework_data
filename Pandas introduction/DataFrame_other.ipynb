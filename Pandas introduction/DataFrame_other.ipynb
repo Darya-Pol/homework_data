{
 "cells": [
  {
   "cell_type": "code",
   "execution_count": 19,
   "metadata": {},
   "outputs": [
    {
     "data": {
      "text/plain": [
       "ID Покупателя\n",
       "1        1\n",
       "5    13043\n",
       "7    17096\n",
       "8     1344\n",
       "Name: summ, dtype: int64"
      ]
     },
     "metadata": {},
     "output_type": "display_data"
    }
   ],
   "source": [
    "import pandas as pd\n",
    "orders = pd.read_csv('C:\\IDA\\data/orders.csv', sep = ';')\n",
    "products = pd.read_csv('C:\\IDA\\data/products.csv', sep = ';')\n",
    "orders_products = orders.merge(products, how='left', left_on= 'ID товара', right_on='Product_ID')\n",
    "orders_products = orders_products[(orders_products['Статус']=='Оплачен, формируется к отправке') | (orders_products['Статус']=='Выполнен')]\n",
    "orders_products['summ'] = orders_products['Количество']*orders_products['Price']\n",
    "customers = orders_products.groupby('ID Покупателя')['summ'].sum()\n",
    "display(customers)"
   ]
  },
  {
   "cell_type": "markdown",
   "metadata": {},
   "source": []
  }
 ],
 "metadata": {
  "kernelspec": {
   "display_name": "Python 3",
   "language": "python",
   "name": "python3"
  },
  "language_info": {
   "codemirror_mode": {
    "name": "ipython",
    "version": 3
   },
   "file_extension": ".py",
   "mimetype": "text/x-python",
   "name": "python",
   "nbconvert_exporter": "python",
   "pygments_lexer": "ipython3",
   "version": "3.9.11"
  }
 },
 "nbformat": 4,
 "nbformat_minor": 2
}
