{
 "cells": [
  {
   "cell_type": "code",
   "execution_count": 3,
   "metadata": {},
   "outputs": [
    {
     "name": "stdout",
     "output_type": "stream",
     "text": [
      "0    99\n",
      "1    41\n",
      "2    21\n",
      "3     3\n",
      "4    72\n",
      "Name: Series, dtype: int64\n"
     ]
    }
   ],
   "source": [
    "import pandas as pd\n",
    "Series = pd.Series(data=['Опыт работы 8 лет 3 месяца', 'Опыт работы 3 года 5 месяцев','Опыт работы 1 год 9 месяцев','Опыт работы 3 месяца','Опыт работы 6 лет'],index=[0,1,2,3,4], name='Series')\n",
    "def get_experience(arg):\n",
    "    arg = arg.split(' ')\n",
    "    if len(arg) > 4:\n",
    "        total = int(arg[2])*12 + int(arg[4])\n",
    "        return total\n",
    "    else:\n",
    "        if arg[3] in ['месяцев', 'месяца']:\n",
    "            return int(arg[2])\n",
    "        else:\n",
    "            return int(arg[2])*12\n",
    "print (Series.apply(get_experience))"
   ]
  }
 ],
 "metadata": {
  "kernelspec": {
   "display_name": "Python 3",
   "language": "python",
   "name": "python3"
  },
  "language_info": {
   "codemirror_mode": {
    "name": "ipython",
    "version": 3
   },
   "file_extension": ".py",
   "mimetype": "text/x-python",
   "name": "python",
   "nbconvert_exporter": "python",
   "pygments_lexer": "ipython3",
   "version": "3.9.11"
  }
 },
 "nbformat": 4,
 "nbformat_minor": 2
}
