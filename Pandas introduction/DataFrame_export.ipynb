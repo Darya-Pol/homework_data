{
 "cells": [
  {
   "cell_type": "code",
   "execution_count": 50,
   "metadata": {},
   "outputs": [
    {
     "name": "stderr",
     "output_type": "stream",
     "text": [
      "C:\\Users\\79126\\AppData\\Local\\Temp\\ipykernel_10540\\3112153822.py:6: FutureWarning: Series.__getitem__ treating keys as positions is deprecated. In a future version, integer keys will always be treated as labels (consistent with DataFrame behavior). To access a value by position, use `ser.iloc[pos]`\n",
      "  weekend_count = melb_df[(melb_df['WeekdaySale']==5) | (melb_df['WeekdaySale']==6)].count()[0]\n"
     ]
    },
    {
     "data": {
      "text/plain": [
       "np.int64(12822)"
      ]
     },
     "metadata": {},
     "output_type": "display_data"
    }
   ],
   "source": [
    "import pandas as pd\n",
    "melb_data = pd.read_csv('D:\\Dasha\\Универ\\IDE\\homework_data\\data/melb_data_ps.csv', sep = ',')\n",
    "melb_df = melb_data.copy()\n",
    "melb_df['Date'] = pd.to_datetime(melb_df['Date'], dayfirst=True)\n",
    "melb_df['WeekdaySale'] = melb_df['Date'].dt.day_of_week\n",
    "weekend_count = melb_df[(melb_df['WeekdaySale']==5) | (melb_df['WeekdaySale']==6)].count()[0]\n",
    "display(weekend_count)"
   ]
  }
 ],
 "metadata": {
  "kernelspec": {
   "display_name": "Python 3",
   "language": "python",
   "name": "python3"
  },
  "language_info": {
   "codemirror_mode": {
    "name": "ipython",
    "version": 3
   },
   "file_extension": ".py",
   "mimetype": "text/x-python",
   "name": "python",
   "nbconvert_exporter": "python",
   "pygments_lexer": "ipython3",
   "version": "3.9.11"
  }
 },
 "nbformat": 4,
 "nbformat_minor": 2
}
