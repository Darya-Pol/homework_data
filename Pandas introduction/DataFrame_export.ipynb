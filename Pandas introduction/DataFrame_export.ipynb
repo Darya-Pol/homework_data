{
 "cells": [
  {
   "cell_type": "code",
   "execution_count": 98,
   "metadata": {},
   "outputs": [
    {
     "data": {
      "text/plain": [
       "year_rating\n",
       "1996    3.228571\n",
       "1997    3.409091\n",
       "1998    3.000000\n",
       "1999    3.606061\n",
       "2000    3.141291\n",
       "2001    3.318408\n",
       "2002    3.198556\n",
       "2003    3.120066\n",
       "2004    3.356877\n",
       "2005    2.963325\n",
       "2006    3.347534\n",
       "2007    2.928187\n",
       "2008    3.426667\n",
       "2009    3.273292\n",
       "2010    3.179825\n",
       "2011    3.232877\n",
       "2012    3.478477\n",
       "2013    3.489474\n",
       "2014    3.271429\n",
       "2015    3.106183\n",
       "2016    3.373431\n",
       "2017    2.852668\n",
       "2018    3.121296\n",
       "Name: Comedy, dtype: float64"
      ]
     },
     "metadata": {},
     "output_type": "display_data"
    }
   ],
   "source": [
    "import pandas as pd\n",
    "import re \n",
    "movies = pd.read_csv('C:\\IDA\\data/movies.csv', sep = ',')\n",
    "ratings1 = pd.read_csv('C:\\IDA\\data/ratings1.csv', sep = ',')\n",
    "dates = pd.read_csv('C:\\IDA\\data/dates.csv', sep = ',')\n",
    "ratings2 = pd.read_csv('C:\\IDA\\data/ratings2.csv', sep = ',')\n",
    "dates['date'] = pd.to_datetime(dates['date'])\n",
    "ratings = pd.concat([ratings1, ratings2], ignore_index=True)\n",
    "ratings = ratings.drop_duplicates(ignore_index=True)\n",
    "ratings_dates = pd.concat([ratings, dates], axis=1)\n",
    "joined = ratings_dates.join(movies.set_index('movieId'), on='movieId', how = 'left')\n",
    "def get_year_release(arg):\n",
    "    candidates = re.findall(r'\\(\\d{4}\\)', arg)\n",
    "    if len(candidates) > 0:\n",
    "        year = candidates[0].replace('(', '')\n",
    "        year = year.replace(')', '')\n",
    "        return int(year)\n",
    "    else:\n",
    "        return None\n",
    "joined['year_release'] = joined['title'].apply(get_year_release)\n",
    "joined['year_rating'] = joined['date'].dt.year\n",
    "mean_ratings = joined.pivot_table(values= 'rating', index = 'year_rating', columns='genres', aggfunc= 'mean', fill_value=0)\n",
    "display(mean_ratings['Comedy'])"
   ]
  }
 ],
 "metadata": {
  "kernelspec": {
   "display_name": "Python 3",
   "language": "python",
   "name": "python3"
  },
  "language_info": {
   "codemirror_mode": {
    "name": "ipython",
    "version": 3
   },
   "file_extension": ".py",
   "mimetype": "text/x-python",
   "name": "python",
   "nbconvert_exporter": "python",
   "pygments_lexer": "ipython3",
   "version": "3.9.11"
  }
 },
 "nbformat": 4,
 "nbformat_minor": 2
}
