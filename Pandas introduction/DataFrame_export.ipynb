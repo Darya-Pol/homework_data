{
 "cells": [
  {
   "cell_type": "code",
   "execution_count": 16,
   "metadata": {},
   "outputs": [
    {
     "name": "stdout",
     "output_type": "stream",
     "text": [
      "      Bathroom  Car  Landsize  BuildingArea CouncilArea  Lattitude  \\\n",
      "1557         1    1       0.0          56.0  Boroondara   -37.8493   \n",
      "1558         1    1       0.0          77.0  Boroondara   -37.8255   \n",
      "\n",
      "      Longtitude             Regionname  Propertycount  MeanRoomsSquare  \n",
      "1557    145.0877  Southern Metropolitan           8920             11.2  \n",
      "1558    145.0592  Southern Metropolitan           8920             15.4  \n"
     ]
    }
   ],
   "source": [
    "import pandas as pd\n",
    "melb_data = pd.read_csv('C:\\IDA\\data/melb_data_fe.csv', sep = ',')\n",
    "melb_df = melb_data.copy()\n",
    "print(melb_df.sort_values(by = ['AreaRatio'], ascending=False, ignore_index=True).iloc[1557:1559, 10:20])"
   ]
  }
 ],
 "metadata": {
  "kernelspec": {
   "display_name": "Python 3",
   "language": "python",
   "name": "python3"
  },
  "language_info": {
   "codemirror_mode": {
    "name": "ipython",
    "version": 3
   },
   "file_extension": ".py",
   "mimetype": "text/x-python",
   "name": "python",
   "nbconvert_exporter": "python",
   "pygments_lexer": "ipython3",
   "version": "3.9.11"
  }
 },
 "nbformat": 4,
 "nbformat_minor": 2
}
