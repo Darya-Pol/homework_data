{
 "cells": [
  {
   "cell_type": "code",
   "execution_count": 7,
   "metadata": {},
   "outputs": [],
   "source": [
    "import tkinter as tk\n",
    "from tkinter import * #импортирование всех методов библиотеки без надобности ее вызова в дальнейшем\n",
    "from tkinter import messagebox #использование всплывающего окна\n",
    "\n",
    "window = Tk() #создание окна приложения\n",
    "window.title(\"Учет реактивов и оборудование ОМБиЭМ\")\n",
    "icon = PhotoImage(file = \"frog.ico\") # установка иконки приложения\n",
    "window.iconphoto(False, icon) \n",
    "window.state('zoomed')\n",
    "\n",
    "frame = Frame(\n",
    "    window,\n",
    "    padx = 10,\n",
    "    pady=10\n",
    ")\n",
    "frame.pack(expand=True) # создание виджета ждя контроля расположения элементов\n",
    "\n",
    "\n",
    "\n",
    "window.mainloop()"
   ]
  }
 ],
 "metadata": {
  "kernelspec": {
   "display_name": "Python 3",
   "language": "python",
   "name": "python3"
  },
  "language_info": {
   "codemirror_mode": {
    "name": "ipython",
    "version": 3
   },
   "file_extension": ".py",
   "mimetype": "text/x-python",
   "name": "python",
   "nbconvert_exporter": "python",
   "pygments_lexer": "ipython3",
   "version": "3.9.11"
  }
 },
 "nbformat": 4,
 "nbformat_minor": 2
}
