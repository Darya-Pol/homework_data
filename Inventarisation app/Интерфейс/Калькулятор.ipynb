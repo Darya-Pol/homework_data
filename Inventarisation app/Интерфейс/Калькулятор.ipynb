{
 "cells": [
  {
   "cell_type": "code",
   "execution_count": 30,
   "metadata": {},
   "outputs": [],
   "source": [
    "import tkinter as tk\n",
    "from tkinter import * #импортирование всех методов библиотеки без надобности ее вызова в дальнейшем\n",
    "from tkinter import messagebox #использование всплывающего окна\n",
    "\n",
    "def calculate_bmi():\n",
    "    kg = int(weight_tf.get()) # получаем данные из соответствующего поля\n",
    "    m = int(height_tf.get())/100\n",
    "    bmi = kg/(m*m)\n",
    "    bmi = round(bmi, 1)\n",
    "    if bmi < 18.5:\n",
    "        messagebox.showinfo('bmi-pythonguides', f'ИМТ={bmi} соотвествует недостаточному весу')\n",
    "    elif (bmi > 18.5) and (bmi<24.9):\n",
    "        messagebox.showinfo('bmi-pythonguides', f'ИМТ={bmi} соотвествует нормальному весу')\n",
    "    elif (bmi > 24.9) and (bmi < 29.9):\n",
    "        messagebox.showinfo('bmi-pythonguides', f'ИМТ={bmi} соотвествует избыточному весу')\n",
    "    else:\n",
    "        messagebox.showinfo('bmi-pythonguides', f'ИМТ={bmi} соотвествует ожирению')\n",
    "\n",
    "window = Tk() #создание окна приложения\n",
    "window.title(\"Калькулятор ИМТ\")\n",
    "icon = PhotoImage(file = \"frog.ico\") # установка иконки приложения\n",
    "window.iconphoto(False, icon) \n",
    "window.geometry('300x250+750+300') # базовый размер окна\n",
    "\n",
    "frame = Frame(\n",
    "    window,\n",
    "    padx = 10,\n",
    "    pady=10\n",
    ")\n",
    "frame.pack(expand=True) # создание виджета ждя контроля расположения элементов\n",
    "\n",
    "height_lb = Label(\n",
    "    frame,\n",
    "    text='Введите рост (в см)'\n",
    ")\n",
    "height_lb.grid(row=3, column=1) # создание надписи в определенном месте\n",
    "\n",
    "weight_lb = Label(\n",
    "    frame,\n",
    "    text='Введите вес (в кг)'\n",
    ")\n",
    "weight_lb.grid(row=4, column=1) # создание надписи в определенном месте\n",
    "\n",
    "height_tf = Entry(frame)\n",
    "height_tf.grid(row=3, column=2) #создание поля для ввода\n",
    "\n",
    "weight_tf = Entry(frame)\n",
    "weight_tf.grid(row=4, column=2) #создание поля для ввода\n",
    "\n",
    "calk_button = Button(frame, text='Рассчитать ИМТ', command=calculate_bmi)\n",
    "calk_button.grid(row=5, column=2) # создание кнопки для расчета\n",
    "\n",
    "window.mainloop() # теперь окно не закроется, пока пользователь не закроет\n",
    "\n"
   ]
  }
 ],
 "metadata": {
  "kernelspec": {
   "display_name": "Python 3",
   "language": "python",
   "name": "python3"
  },
  "language_info": {
   "codemirror_mode": {
    "name": "ipython",
    "version": 3
   },
   "file_extension": ".py",
   "mimetype": "text/x-python",
   "name": "python",
   "nbconvert_exporter": "python",
   "pygments_lexer": "ipython3",
   "version": "3.9.11"
  }
 },
 "nbformat": 4,
 "nbformat_minor": 2
}
